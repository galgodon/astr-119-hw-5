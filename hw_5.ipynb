{
 "cells": [
  {
   "cell_type": "markdown",
   "metadata": {},
   "source": [
    "# Create a notebook to perform Cash-Karp Runge-Kutta integration for multiple coupled variables with adaptive stepwise control"
   ]
  },
  {
   "cell_type": "code",
   "execution_count": null,
   "metadata": {},
   "outputs": [],
   "source": [
    "%matplotlib inline\n",
    "import matplotlib.pyplot as plt\n",
    "import numpy as np"
   ]
  },
  {
   "cell_type": "markdown",
   "metadata": {},
   "source": [
    "# Define our coupled derivatives"
   ]
  },
  {
   "cell_type": "code",
   "execution_count": null,
   "metadata": {},
   "outputs": [],
   "source": [
    "def dydx(x,y):\n",
    "    # y is multivariable, y[0]=y, y[1]=z\n",
    "    y_derivs = np.zeros(2)    # 2 because 2 variables. y_derivs[0]=dy/dx, y_derivs[1]=dz/dx \n",
    "    y_derivs[0] = y[1]        # dy/dx = z (given)\n",
    "    y_derivs[1] = -1*y[0]     # dz/dx = -y (given)\n",
    "    return y_derivs"
   ]
  },
  {
   "cell_type": "markdown",
   "metadata": {},
   "source": [
    "# Define the Cash-Karp Runge-Kutta method"
   ]
  },
  {
   "cell_type": "code",
   "execution_count": null,
   "metadata": {},
   "outputs": [],
   "source": [
    "def ck_rk_mv_core(dydx,xi,yi,nv,h):  # gives updated estimate of y,z after a step h using cash-karp runge-kutta\n",
    "    # dy/dx is the above function \n",
    "    # xi,yi is x,y at left side of step\n",
    "    # nv is the number of variables (nv=2 for this problem)\n",
    "    # h is step size\n",
    "    \n",
    "    # k arrays defined in 4th order RK method (k? means k1,k2,...,k9)\n",
    "    k1 = np.zeros(nv)       # in this case, since nv=2, k1[0] corresponds to y, k1[1] corresponds to z\n",
    "    k2 = np.zeros(nv)\n",
    "    k3 = np.zeros(nv)\n",
    "    k4 = np.zeros(nv)\n",
    "    k5 = np.zeros(nv)\n",
    "    k6 = np.zeros(nv)\n",
    "    \n",
    "    y_temp = np.zeros(nv)   # temprorary y array \n",
    "    \n",
    "    #get k1 values (see slide 4 of lecture 15)\n",
    "    y_derivs = dydx(xi,yi)  # use the function that we made earlier\n",
    "    k1[:] = h*y_derivs[:]   # colon is to make sure we use both y and z\n",
    "    \n",
    "    # get k2 values\n",
    "    c2 = 1/5\n",
    "    a21 = 1/5         # slide 5 of Lecture 15\n",
    "    y_temp[:] = yi[:] + a21*k1[:] # update y_temp after first step, note we are doing both y and z simultaneously\n",
    "    y_derivs = dydx(xi+c2*h,y_temp)\n",
    "    k2[:] = h*y_derivs[:]\n",
    "    \n",
    "    # get k3 values\n",
    "    c3 = 3/10\n",
    "    a31 = 3/40\n",
    "    a32 = 9/40\n",
    "    y_temp[:] = yi[:] + a31*k1[:] + a32*k2[:]\n",
    "    y_derivs = dydx(xi + c3*h,y_temp)\n",
    "    k3[:] = h*y_derivs[:]\n",
    "\n",
    "    # get k4 values\n",
    "    c4 = 3/5\n",
    "    a41 = 3/10\n",
    "    a42 = -9/10\n",
    "    a43 = 6/5\n",
    "    y_temp[:] = yi[:] + a41*k1[:] + a42*k2[:] + a43*k3[:]\n",
    "    y_derivs = dydx(xi + c4*h,y_temp)\n",
    "    k4[:] = h*y_derivs[:]\n",
    "    \n",
    "    # get k5 values\n",
    "    c5 = 1\n",
    "    a51 = -11/54\n",
    "    a52 = 5/2\n",
    "    a53 = -70/27\n",
    "    a54 = 35/27\n",
    "    y_temp[:] = yi[:] + a51*k1[:] + a52*k2[:] + a53*k3[:] + a54*k4[:]\n",
    "    y_derivs = dydx(xi + c5*h,y_temp)\n",
    "    k5[:] = h*y_derivs[:]\n",
    "    \n",
    "    # get k6 values\n",
    "    c6 = 7/8\n",
    "    a61 = 1631/55296\n",
    "    a62 = 175/512\n",
    "    a63 = 575/13824\n",
    "    a64 = 44275/110592\n",
    "    a65 = 253/4096\n",
    "    y_temp[:] = yi[:] + a61*k1[:] + a62*k2[:] + a63*k3[:] + a64*k4[:] + a65*k5[:]\n",
    "    y_derivs = dydx(xi + c6*h,y_temp)\n",
    "    k6[:] = h*y_derivs[:]    # note to self: I could put all of the k's into one matrix rather than having a seperate variable for each k. maybe do later if bored\n",
    "    \n",
    "    # advance y by a step h\n",
    "    b = np.array([37/378 ,0 ,250/621 ,125/594 ,0 ,512/1771])\n",
    "    b_star = np.array([2825/27648 ,0 ,18575/48384 ,13525/55296 ,277/14336 ,1/4])\n",
    "    yipo = yi + b[0]*k1 + b[1]*k2 + b[2]*k3 + b[3]*k4 + b[4]*k5 + b[5]*k6 \n",
    "    yipo_star = yi + b_star[0]*k1 + b_star[1]*k2 + b_star[2]*k3 + b_star[3]*k4 + b_star[4]*k5 + b_star[5]*k6 \n",
    "    \n",
    "    delta = np.fabs(yipo - yipo_star)\n",
    "    return yipo, delta"
   ]
  },
  {
   "cell_type": "markdown",
   "metadata": {},
   "source": [
    "# Define adaptive step size driver for the Cash-Karp Runge-Kutta method (mv_ad = multi-variable adaptive)"
   ]
  },
  {
   "cell_type": "code",
   "execution_count": null,
   "metadata": {},
   "outputs": [],
   "source": [
    "def ck_rk_mv_ad(dydx,x_i,y_i,nv,h,tol):\n",
    "    # define safety scale\n",
    "    SAFETY = 0.9    # make sure the size decrease is at minumum 90%, we don't want step to decrease by more than 90\n",
    "    H_NEW_FAC = 2.0 # make sure to take at max double the step, limits how far we can increase the step size\n",
    "    \n",
    "    # set max number of iterations\n",
    "    imax=10000\n",
    "    \n",
    "    # set iteration variable\n",
    "    i = 0\n",
    "    \n",
    "    # remember the original step\n",
    "    h_step = h\n",
    "    \n",
    "    # find error\n",
    "    y_2, Delta = ck_rk_mv_core(dydx,x_i,y_i,nv,h_step)\n",
    "\n",
    "    \n",
    "    # adjust step\n",
    "    while(Delta.max()/tol > 1.0):    # while the max Delta is greater than the tolerance. note: uses newton-rapson root finding to divide numebrs\n",
    "        h_step *= SAFETY * (Delta.max()/tol)**(-0.25)   # SAFETY is to make sure we decrease h_step, the other term \n",
    "                                                            # will be less than 1, but will most likey be close to 1, \n",
    "                                                            # we don't want it to be .99999 so the SAFETY guraantees we at \n",
    "                                                            # least decrease by 10%\n",
    "        y_2, Delta = ck_rk_mv_core(dydx,x_i,y_i,nv,h_step)\n",
    "        # make sure we don't get infinite loop by checking iteration\n",
    "        if(i>=imax):\n",
    "            print('Too many iterations in ck_rk_mv_ad()')\n",
    "            raise StopIteration('Ending after i = ',i)\n",
    "        i += 1\n",
    "        \n",
    "    # For the next step, try to take a bigger step regardless of if the previous while loop did anything\n",
    "    # note: once we get to this point (Delta.max()/tol) <= 1 since we have to exit the while loop\n",
    "    h_new = np.fmin(h_step * (Delta.max()/tol)**(-0.9),h_step*H_NEW_FAC)\n",
    "    \n",
    "    # y_2 is from the newest h_step, h_new is the h we should use for the next iteration, h_step is the newest h_step \n",
    "    return y_2, h_new, h_step\n",
    "            \n",
    "        \n",
    "        "
   ]
  },
  {
   "cell_type": "markdown",
   "metadata": {},
   "source": [
    "# Define a wrapper for the Cash-Karp Runge-Kutta method"
   ]
  },
  {
   "cell_type": "code",
   "execution_count": null,
   "metadata": {},
   "outputs": [],
   "source": [
    "def ck_rk_mv(dfdx,a,b,y_a,tol):\n",
    "    # dfdx is the derivative wrt x (copied that from slide, idk what wrt x means though)\n",
    "    # a,b is the lower bound,upper bound\n",
    "    # y_a are the initial conditions. (the boundary conditions)\n",
    "    # tol is the tolerance for integrating y\n",
    "    \n",
    "    xi = a          # starting step\n",
    "    yi = y_a.copy()\n",
    "    \n",
    "    h = 1.0e-4 * (b-a)   # starting h, our adaptive function will further change this. Start small\n",
    "                            # note: this might work fine if integrating backwards, it will just be a negative h\n",
    "    \n",
    "    imax = 10000   # reasonably we will probably never reach this, it is here however to prevent infinite loops\n",
    "    \n",
    "    i = 0    # set our iteration variable\n",
    "    \n",
    "    nv = len(y_a)  # number of dimensions used will be the length of y_a\n",
    "    \n",
    "    x = np.full(1,a)        # why not np.array([a]) is it to just match syntax of y below?\n",
    "    y = np.full((1,nv),y_a) # 1 x nv matrix to put our different variables into\n",
    "    \n",
    "    flag = 1   # arbitrary switch for the while loop. Obviously switched on to run the the loop. Note: 1 = on, 0 = off\n",
    "    \n",
    "    while(flag):\n",
    "        yi_new, h_new, h_step = ck_rk_mv_ad(dydx, xi, yi, nv, h, tol)  # see function above to know what this does\n",
    "        \n",
    "        h = h_new  # replace our original guess above\n",
    "        \n",
    "        # once we reach the end, we want to prevent an overshoot\n",
    "        if(xi+h_step>b):\n",
    "            h = b-xi   # make the last step perfectly reach b\n",
    "            \n",
    "            yi_new, h_new, h_step = ck_rk_mv_ad(dydx, xi, yi, nv, h, tol) # recalc y_i+1\n",
    "            \n",
    "            flag = 0  # since we will only be here when we reach the end, turn off the while loop\n",
    "            \n",
    "        # if we have not reached the end, this is how we do the next step\n",
    "        \n",
    "        xi += h_step        # change xi,yi with the output of rk4_mv_ad\n",
    "        yi[:] = yi_new[:]\n",
    "        \n",
    "        x = np.append(x,xi) # add the new x to the x_array\n",
    "        \n",
    "        # it's a little more complicated to set up adding the new i. This is because we are changing the dimensions\n",
    "        y_new = np.zeros((len(x),nv))  # set up the shell of y\n",
    "        y_new [0:len(x)-1,:] = y       # fill the first part of the shell with the previous y values to preserve them\n",
    "        y_new[-1,:] = yi[:]            # put our newest value at the end of the shell\n",
    "        del y                          # delete y in order to\n",
    "        y = y_new                      # replace y with the now filled shell\n",
    "        \n",
    "        if(i>=imax):    # prevent inifinite loop\n",
    "            print('Maximum iterations reached.')\n",
    "            raise StopIteration('Max iterations set to ',i)\n",
    "            \n",
    "        i += 1   # end of the first step, so increment i and go through the loop again until the flag above\n",
    "        \n",
    "        s = 'i = %3d\\tx = %9.8f\\th = %9.8f\\tb = %9.8f' % (i,xi,h_step,b)\n",
    "        print(s)   # print each step.\n",
    "        if(xi==b):\n",
    "            flag = 0 # makes sure to turn off the while loop\n",
    "    return x,y  # return answer"
   ]
  },
  {
   "cell_type": "code",
   "execution_count": null,
   "metadata": {},
   "outputs": [],
   "source": [
    "a = 0.0           # integration limits (range where we want to find diff eq)\n",
    "b = 2.0 * np.pi\n",
    "\n",
    "y_0 = np.array([0.0,1.0]) # initial conditions y(0)=0 and z(0)=1, recall y array is [y,z]\n",
    "\n",
    "tolerance = 1.0e-6\n",
    "\n",
    "# time to use our function\n",
    "x,y = ck_rk_mv(dydx,a,b,y_0,tolerance)"
   ]
  },
  {
   "cell_type": "code",
   "execution_count": null,
   "metadata": {},
   "outputs": [],
   "source": [
    "plt.plot(x,y[:,0],'o',label='y(x)')\n",
    "plt.plot(x,y[:,1],'o',label=r'z(x) = $\\frac{dy}{dx}(x)$')\n",
    "x_graph = np.linspace(a,b,1000)\n",
    "plt.plot(x_graph,np.sin(x_graph),label='sin(x)')\n",
    "plt.plot(x_graph,np.cos(x_graph),label='cos(x)')\n",
    "plt.legend()\n",
    "plt.show()"
   ]
  },
  {
   "cell_type": "code",
   "execution_count": null,
   "metadata": {},
   "outputs": [],
   "source": [
    "y_error = y[:,0] - np.sin(x)\n",
    "dydx_error = y[:,1] - np.cos(x)\n",
    "\n",
    "plt.plot(x,y_error, label='y(x) Error')\n",
    "plt.plot(x,dydx_error, label=r'$\\frac{dy}{dx}$ Error')\n",
    "plt.legend()\n",
    "plt.show()"
   ]
  },
  {
   "cell_type": "code",
   "execution_count": null,
   "metadata": {},
   "outputs": [],
   "source": []
  }
 ],
 "metadata": {
  "kernelspec": {
   "display_name": "Python 3",
   "language": "python",
   "name": "python3"
  },
  "language_info": {
   "codemirror_mode": {
    "name": "ipython",
    "version": 3
   },
   "file_extension": ".py",
   "mimetype": "text/x-python",
   "name": "python",
   "nbconvert_exporter": "python",
   "pygments_lexer": "ipython3",
   "version": "3.6.5"
  }
 },
 "nbformat": 4,
 "nbformat_minor": 2
}
